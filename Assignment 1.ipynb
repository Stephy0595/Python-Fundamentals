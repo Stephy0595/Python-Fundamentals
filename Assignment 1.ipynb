{
 "cells": [
  {
   "cell_type": "code",
   "execution_count": 1,
   "id": "e4452438-3834-4df5-9697-863ceff1938b",
   "metadata": {},
   "outputs": [
    {
     "name": "stdout",
     "output_type": "stream",
     "text": [
      "Bob\n",
      "ST1001\n",
      "bob@example.com\n"
     ]
    }
   ],
   "source": [
    "# 1) Print name, student number, and email address\n",
    "print(\"Bob\")\n",
    "print(\"ST1001\")\n",
    "print(\"bob@example.com\")"
   ]
  },
  {
   "cell_type": "code",
   "execution_count": 2,
   "id": "8e32b94b-14c1-429c-a8b1-e0ddac2e8299",
   "metadata": {},
   "outputs": [
    {
     "name": "stdout",
     "output_type": "stream",
     "text": [
      "Bob\n",
      "ST1001\n",
      "bob@example.com\n"
     ]
    }
   ],
   "source": [
    "# 2) Print name, student number, and email address using escape sequences\n",
    "print(\"Bob\\nST1001\\nbob@example.com\")"
   ]
  },
  {
   "cell_type": "code",
   "execution_count": 3,
   "id": "b212a649-2132-4f7e-a275-149a7f488be8",
   "metadata": {},
   "outputs": [
    {
     "name": "stdout",
     "output_type": "stream",
     "text": [
      "14+7= 21\n",
      "14-7= 7\n",
      "14*7= 98\n",
      "14/7= 2\n"
     ]
    }
   ],
   "source": [
    "# 3) Add, subtract, multiply and divide two numbers\n",
    "a=14\n",
    "b=7\n",
    "c=a+b\n",
    "d=a-b\n",
    "e=a*b\n",
    "f=int(a/b)\n",
    "print(\"14+7=\",c)\n",
    "print(\"14-7=\",d)\n",
    "print(\"14*7=\",e)\n",
    "print(\"14/7=\",f)"
   ]
  },
  {
   "cell_type": "code",
   "execution_count": 4,
   "id": "571541fe-ad74-4331-9256-7e2f355e1ee7",
   "metadata": {},
   "outputs": [
    {
     "name": "stdout",
     "output_type": "stream",
     "text": [
      "1\n",
      "2\n",
      "3\n",
      "4\n",
      "5\n"
     ]
    }
   ],
   "source": [
    "# 4) Displays the numbers from 1 to 5 as steps\n",
    "steps = \"1\\n2\\n3\\n4\\n5\"\n",
    "print(steps)"
   ]
  },
  {
   "cell_type": "code",
   "execution_count": 5,
   "id": "56c88dac-061f-4e22-88f4-500271448824",
   "metadata": {},
   "outputs": [
    {
     "name": "stdout",
     "output_type": "stream",
     "text": [
      "\"SDK\" stands for \"Software Development Kit\", whereas\n",
      "\"IDE\" stands for \"Integrated Development Environment\".\n"
     ]
    }
   ],
   "source": [
    "# 5) Output sentence with quotation marks and line break\n",
    "print(\"\\\"SDK\\\" stands for \\\"Software Development Kit\\\", whereas\")\n",
    "print(\"\\\"IDE\\\" stands for \\\"Integrated Development Environment\\\".\")"
   ]
  },
  {
   "cell_type": "code",
   "execution_count": 6,
   "id": "c7e93664-0ce1-4c2f-86fe-76b5e4e0ea2b",
   "metadata": {},
   "outputs": [
    {
     "name": "stdout",
     "output_type": "stream",
     "text": [
      "python is an \"awesome\" language.\n",
      "python\n",
      "\t2023\n",
      "I'm from Entri\n",
      "5\n",
      "e\n",
      "Entri\n",
      "2023\n",
      "Entr2023\n",
      "Entri*20"
     ]
    }
   ],
   "source": [
    "# 6) Check the outputs\n",
    "print(\"python is an \\\"awesome\\\" language.\")\n",
    "print(\"python\\n\\t2023\")\n",
    "print('I\\'m from Entri.\\b')\n",
    "print(\"\\65\")\n",
    "print(\"\\x65\")\n",
    "print(\"Entri\", \"2023\", sep=\"\\n\")\n",
    "print(\"Entri\", \"2023\", sep=\"\\b\")\n",
    "print(\"Entri\", \"2023\", sep=\"*\", end=\"\\b\\b\\b\\b\")"
   ]
  },
  {
   "cell_type": "code",
   "execution_count": 7,
   "id": "11ca10f9-bd8b-468c-919e-85d19a88fab7",
   "metadata": {},
   "outputs": [
    {
     "name": "stdout",
     "output_type": "stream",
     "text": [
      "<class 'int'>\n",
      "<class 'str'>\n",
      "<class 'float'>\n",
      "Sum: 178.3\n",
      "Type of sum: <class 'float'>\n"
     ]
    }
   ],
   "source": [
    "#  7) Data type conversion\n",
    "num = 23\n",
    "textnum = \"57\"\n",
    "decimal = 98.3\n",
    "# Print types\n",
    "print(type(num))\n",
    "print(type(textnum))\n",
    "print(type(decimal))\n",
    "# Calculate sum\n",
    "sum = num + int(textnum) + decimal\n",
    "print(\"Sum:\", sum)\n",
    "# Print datatype of sum\n",
    "print(\"Type of sum:\", type(sum))\n"
   ]
  },
  {
   "cell_type": "code",
   "execution_count": 8,
   "id": "86f5ab73-f309-4765-9aba-ed54306f4516",
   "metadata": {},
   "outputs": [
    {
     "name": "stdout",
     "output_type": "stream",
     "text": [
      "This program calculates the total number of minutes in a year.\n",
      "A year has 525600 minutes.\n"
     ]
    }
   ],
   "source": [
    "#  8) Calculates total minutes in a year\n",
    "days_in_year = 365\n",
    "hours_in_day = 24\n",
    "minutes_in_hour = 60\n",
    "total_minutes_in_year = days_in_year * hours_in_day * minutes_in_hour\n",
    "print(\"This program calculates the total number of minutes in a year.\")\n",
    "print(f\"A year has {total_minutes_in_year} minutes.\")\n"
   ]
  },
  {
   "cell_type": "code",
   "execution_count": 9,
   "id": "83d46a4a-5259-497a-8c5a-f8e6850ea0e6",
   "metadata": {},
   "outputs": [
    {
     "name": "stdin",
     "output_type": "stream",
     "text": [
      "Please enter your name:  Stephy\n"
     ]
    },
    {
     "name": "stdout",
     "output_type": "stream",
     "text": [
      "Hi Stephy, welcome to Python programming :)\n"
     ]
    }
   ],
   "source": [
    "# 9) Print name with greeting\n",
    "name = input(\"Please enter your name: \")\n",
    "print(f\"Hi {name}, welcome to Python programming :)\")"
   ]
  },
  {
   "cell_type": "code",
   "execution_count": 10,
   "id": "ada4b169-bcee-4c4e-b68c-3c6defaaa5fd",
   "metadata": {},
   "outputs": [
    {
     "name": "stdin",
     "output_type": "stream",
     "text": [
      "Please enter amount in pounds:  2\n"
     ]
    },
    {
     "name": "stdout",
     "output_type": "stream",
     "text": [
      "£2.0 are $2.6\n"
     ]
    }
   ],
   "source": [
    "# 10) PoundsToDollars.py\n",
    "conversion_rate = 1.3\n",
    "pounds = float(input(\"Please enter amount in pounds: \"))\n",
    "dollars = pounds * conversion_rate\n",
    "print(f\"£{pounds} are ${dollars}\")"
   ]
  },
  {
   "cell_type": "code",
   "execution_count": null,
   "id": "7fe0e3c7-f0a3-46c5-8132-7ff533272d8b",
   "metadata": {},
   "outputs": [],
   "source": []
  }
 ],
 "metadata": {
  "kernelspec": {
   "display_name": "Python 3 (ipykernel)",
   "language": "python",
   "name": "python3"
  },
  "language_info": {
   "codemirror_mode": {
    "name": "ipython",
    "version": 3
   },
   "file_extension": ".py",
   "mimetype": "text/x-python",
   "name": "python",
   "nbconvert_exporter": "python",
   "pygments_lexer": "ipython3",
   "version": "3.12.7"
  }
 },
 "nbformat": 4,
 "nbformat_minor": 5
}
